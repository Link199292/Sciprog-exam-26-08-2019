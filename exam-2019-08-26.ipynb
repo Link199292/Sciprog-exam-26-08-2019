{
 "cells": [
  {
   "cell_type": "markdown",
   "metadata": {},
   "source": [
    "# Exam -  Mon 26, Aug 2019 EXERCISES\n",
    "\n",
    "**Scientific Programming - Data Science @ University of Trento**\n",
    "\n",
    "## [Download exercises and solution](_static/generated/sciprog-ds-2019-08-26-exam.zip)"
   ]
  },
  {
   "cell_type": "markdown",
   "metadata": {},
   "source": [
    "## Introduction\n",
    "\n",
    "* **Taking part to this exam erases any vote you had before**\n"
   ]
  },
  {
   "cell_type": "markdown",
   "metadata": {},
   "source": [
    "\n",
    "### Grading\n",
    "\n",
    "\n",
    "* **Correct implementations**: Correct implementations with the required complexity grant you full grade.\n",
    "* **Partial implementations**: Partial implementations _might_ still give you a few points. If you just can't solve an exercise,  try to solve it at least for some subcase (i.e. array of fixed size 2) commenting why you did so. \n",
    "* **Bonus point**: One bonus point can be earned by writing stylish code. You got style if you:\n",
    "\n",
    "    - do not infringe the [Commandments](https://sciprog.davidleoni.it/commandments.html)\n",
    "    - write [pythonic code](http://docs.python-guide.org/writing/style)\n",
    "    - avoid convoluted code like i.e.\n",
    "\n",
    "        ```\n",
    "        if x > 5:\n",
    "            return True\n",
    "        else:\n",
    "            return False\n",
    "        ```\n",
    "\n",
    "        when you could write just\n",
    "\n",
    "        ```\n",
    "        return x > 5\n",
    "        ```       \n",
    "\n",
    "### Valid code"
   ]
  },
  {
   "cell_type": "markdown",
   "metadata": {},
   "source": [
    "<div class=\"alert alert-warning\">\n",
    "\n",
    "**WARNING**: MAKE SURE ALL EXERCISE FILES AT LEAST COMPILE !!! \n",
    "10 MINS BEFORE THE END OF THE EXAM I WILL ASK YOU TO DO A FINAL CLEAN UP OF THE CODE \n",
    "</div>\n",
    "\n",
    "\n",
    "\n",
    "<div class=\"alert alert-warning\">\n",
    "\n",
    "**WARNING**: _ONLY_ IMPLEMENTATIONS OF THE PROVIDED FUNCTION SIGNATURES WILL BE EVALUATED !!!!!!!!! <br/>    \n",
    "\n",
    "</div>"
   ]
  },
  {
   "cell_type": "markdown",
   "metadata": {},
   "source": [
    "\n",
    "For example, if you are given to implement: \n",
    "\n",
    "```python\n",
    "    def f(x):\n",
    "        raise Exception(\"TODO implement me\")\n",
    "```\n",
    "\n",
    "and you ship this code:\n",
    "\n",
    "``` python\n",
    "def my_f(x):\n",
    "    # a super fast, correct and stylish implementation\n",
    "\n",
    "def f(x):\n",
    "    raise Exception(\"TODO implement me\")\n",
    "```\n",
    "\n",
    "We will assess only the latter one `f(x)`, and conclude it doesn't work at all :P   !!!!!!!\n",
    "\n",
    "**Helper functions**\n",
    "\n",
    "Still, you are allowed to define any extra helper function you might need. If your `f(x)` implementation calls some other function you defined like `my_f` here, it is ok:\n",
    "\n",
    "```python\n",
    "# Not called by f, will get ignored:\n",
    "def my_g(x):\n",
    "    # bla\n",
    "\n",
    "# Called by f, will be graded:\n",
    "def my_f(y,z):\n",
    "    # bla\n",
    "\n",
    "def f(x):\n",
    "    my_f(x,5)\n",
    "    \n",
    "\n",
    "```\n",
    "\n",
    "\n",
    "\n",
    "### How to edit and run\n",
    "\n",
    "To edit the files, you can use any editor of your choice,  you can find them under _Applications->Programming_:\n",
    "\n",
    "* **Visual Studio Code**\n",
    "* Editra is easy to use, you can find it under _Applications->Programming->Editra_.\n",
    "* Others could be _GEdit_ (simpler), or _PyCharm_ (more complex).\n",
    "\n",
    "To run the tests, use **the Terminal** which can be found in _Accessories -> Terminal_ \n"
   ]
  },
  {
   "cell_type": "markdown",
   "metadata": {},
   "source": [
    "\n",
    "<div class=\"alert alert-info\">\n",
    "\n",
    "**IMPORTANT**: Pay close attention to the comments of the functions.\n",
    "</div>\n",
    "\n",
    "<div class=\"alert alert-warning\">\n",
    "\n",
    "**WARNING**: _DON'T_ modify function signatures! Just provide the implementation.\n",
    "</div>\n",
    "\n",
    "<div class=\"alert alert-warning\">\n",
    "\n",
    "**WARNING**: <i>DON'T</i> change the existing test methods, just add new ones !!!  You can add as many as you want.\n",
    "</div>\n",
    "\n",
    "<div class=\"alert alert-warning\">\n",
    "\n",
    "**WARNING**: _DON'T_ create other files. If you still do it, they won't be evaluated.\n",
    "</div>\n",
    "\n",
    "\n"
   ]
  },
  {
   "cell_type": "markdown",
   "metadata": {},
   "source": [
    "### Debugging \n",
    "\n",
    "If you need to print some debugging information, you are allowed to put extra <code>print</code>\n",
    "    statements in the function bodies."
   ]
  },
  {
   "cell_type": "markdown",
   "metadata": {},
   "source": [
    "\n",
    "<div class=\"alert alert-warning\">\n",
    "\n",
    "**WARNING:** even if print statements are allowed, be careful with prints that might\n",
    "     break your function! \n",
    "</div>\n"
   ]
  },
  {
   "cell_type": "markdown",
   "metadata": {},
   "source": [
    "For example, avoid stuff like this: \n",
    "\n",
    "```python\n",
    "x = 0\n",
    "print(1/x)\n",
    "```\n"
   ]
  },
  {
   "cell_type": "markdown",
   "metadata": {},
   "source": [
    "### What to do\n",
    "\n",
    "1) Download  `sciprog-ds-2019-08-26-exam.zip` and extract it <b>on your desktop</b>. Folder content should be like this:\n",
    "\n",
    "```\n",
    "sciprog-ds-2019-08-26-FIRSTNAME-LASTNAME-ID    \n",
    "    exam-2019-08-26.ipynb          \n",
    "    theory.txt\n",
    "    backpack.py\n",
    "    backpack_test.py\n",
    "    concert.py\n",
    "    concert_test.py\n",
    "    jupman.py\n",
    "    sciprog.py\n",
    "```\n",
    "\n",
    "2) Rename `sciprog-ds-2019-08-26-FIRSTNAME-LASTNAME-ID` folder: put your name, lastname an id number, like `sciprog-ds-2019-08-26-john-doe-432432`\n",
    "\n",
    "From now on, you will be editing the files in that folder. At the end of the exam, that is what will be evaluated.\n",
    "\n",
    "3) Edit the files following the instructions in this worksheet for each exercise. Every exercise should take max 25 mins. If it takes longer, leave it and try another exercise.\n",
    "\n",
    "4) When done:\n",
    "\n",
    "- if you have unitn login:  zip and send to [examina.icts.unitn.it/studente](http://examina.icts.unitn.it/studente)\n",
    "  \n",
    "- If you don't have unitn login: tell instructors and we will download your work manually\n",
    " \n"
   ]
  },
  {
   "cell_type": "markdown",
   "metadata": {},
   "source": [
    "## Part A - University of Trento staff\n",
    "\n",
    "Open Jupyter and start editing this notebook `exam-2019-08-26.ipynb`\n",
    "\n",
    "\n",
    "You will work on the dataset of _University of Trento staff_, modified so not to contain names or surnames.\n",
    "\n",
    "Data provider: [University of Trento](https://dati.trentino.it/dataset/personale-accademico-e-tecnico-amministrativo-dell-universita-di-trento)\n",
    "\n",
    "A function `load_data` is given to load the dataset (you don’t need to implement it):"
   ]
  },
  {
   "cell_type": "code",
   "execution_count": 28,
   "metadata": {},
   "outputs": [],
   "source": [
    "import json\n",
    "\n",
    "def load_data():\n",
    "    with open('2019-06-30-persone-en-stripped.json', encoding='utf-8') as json_file:\n",
    "        data = json.load(json_file)\n",
    "        return data\n",
    "\n",
    "unitn = load_data()"
   ]
  },
  {
   "cell_type": "markdown",
   "metadata": {},
   "source": [
    "<div class=\"alert alert-warning\">\n",
    "\n",
    "**IMPORTANT**: look at the dataset !\n",
    "\n",
    "Here we show only first 2 rows, but to get a clear picture of the dataset you should explore it further.\n",
    "\n",
    "</div>\n"
   ]
  },
  {
   "cell_type": "markdown",
   "metadata": {},
   "source": [
    "The dataset contains a list of employees, each of whom may have one or more positions, in one or more university units. Each unit is identified by a code like ``STO0000435``:"
   ]
  },
  {
   "cell_type": "code",
   "execution_count": 29,
   "metadata": {},
   "outputs": [
    {
     "data": {
      "text/plain": [
       "[{'givenName': 'NAME-1',\n",
       "  'phone': ['0461 283752'],\n",
       "  'identifier': 'eb9139509dc40d199b6864399b7e805c',\n",
       "  'familyName': 'SURNAME-1',\n",
       "  'positions': [{'unitIdentifier': 'STO0008929',\n",
       "    'role': 'Staff',\n",
       "    'unitName': 'Student Support Service: Economics, Law and International Studies'}]},\n",
       " {'givenName': 'NAME-2',\n",
       "  'phone': ['0461 281521'],\n",
       "  'identifier': 'b6292ffe77167b31e856d2984544e45b',\n",
       "  'familyName': 'SURNAME-2',\n",
       "  'positions': [{'unitIdentifier': 'STO0000435',\n",
       "    'role': 'Associate professor',\n",
       "    'unitName': 'Doctoral programme – Physics'},\n",
       "   {'unitIdentifier': 'STO0000435',\n",
       "    'role': 'Deputy coordinator',\n",
       "    'unitName': 'Doctoral programme – Physics'},\n",
       "   {'unitIdentifier': 'STO0008627',\n",
       "    'role': 'Associate professor',\n",
       "    'unitName': 'Department of Physics'}]}]"
      ]
     },
     "execution_count": 29,
     "metadata": {},
     "output_type": "execute_result"
    }
   ],
   "source": [
    "unitn[:2]"
   ]
  },
  {
   "cell_type": "markdown",
   "metadata": {},
   "source": [
    "Department names can be very long, so when you need to display them you can use the function this `abbreviate`. \n",
    "\n",
    "**NOTE**: function is already fully implemented, do _not_ modify it."
   ]
  },
  {
   "cell_type": "code",
   "execution_count": 30,
   "metadata": {},
   "outputs": [],
   "source": [
    "def abbreviate(unitName):\n",
    "    \n",
    "    abbreviations = {\n",
    "         \n",
    "        \"Department of Psychology and Cognitive Science\": \"COGSCI\",    \n",
    "        \"Center for Mind/Brain Sciences - CIMeC\":\"CIMeC\",\n",
    "        \"Department of Civil, Environmental and Mechanical Engineering\":\"DICAM\",    \n",
    "        \"Centre Agriculture Food Environment - C3A\":\"C3A\",\n",
    "        \"School of International Studies - SIS\":\"SIS\",\n",
    "        \"Department of Sociology and social research\": \"Sociology\",\n",
    "        \"Faculty of Law\": \"Law\",\n",
    "        \"Department of Economics and Management\": \"Economics\",\n",
    "        \"Department of Information Engineering and Computer Science\":\"DISI\",\n",
    "        \"Department of Cellular, Computational and Integrative Biology - CIBIO\":\"CIBIO\",\n",
    "        \"Department of Industrial Engineering\":\"DII\"\n",
    "    }\n",
    "    if unitName in abbreviations:\n",
    "        return abbreviations[unitName]\n",
    "    else:\n",
    "        return unitName.replace(\"Department of \", \"\")\n"
   ]
  },
  {
   "cell_type": "markdown",
   "metadata": {},
   "source": [
    "**Example:**"
   ]
  },
  {
   "cell_type": "code",
   "execution_count": 31,
   "metadata": {},
   "outputs": [
    {
     "data": {
      "text/plain": [
       "'DISI'"
      ]
     },
     "execution_count": 31,
     "metadata": {},
     "output_type": "execute_result"
    }
   ],
   "source": [
    "abbreviate(\"Department of Information Engineering and Computer Science\")"
   ]
  },
  {
   "cell_type": "markdown",
   "metadata": {},
   "source": [
    "### A1 calc_uid_to_abbr\n",
    "\n",
    "✪ It will be useful having a map from department ids to their abbreviations, if they are actually present, otherwise to their original name. To implement this, you can use the previously defined function `abbreviate`.\n",
    "\n",
    "```python\n",
    "{\n",
    " .\n",
    " .\n",
    " 'STO0008629': 'DISI',\n",
    " 'STO0008630': 'Sociology',\n",
    " 'STO0008631': 'COGSCI',\n",
    " .\n",
    " .\n",
    " 'STO0012897': 'Institutional Relations and Strategic Documents',\n",
    " .\n",
    " .\n",
    "}\n",
    "```\n",
    "\n"
   ]
  },
  {
   "cell_type": "code",
   "execution_count": 32,
   "metadata": {},
   "outputs": [
    {
     "name": "stdout",
     "output_type": "stream",
     "text": [
      "DISI\n",
      "Institutional Relations and Strategic Documents\n"
     ]
    }
   ],
   "source": [
    "def calc_uid_to_abbr(db):\n",
    "    ret = {}\n",
    "    \n",
    "    for diz in db:\n",
    "        for pos in diz['positions']:\n",
    "            k = pos['unitIdentifier']\n",
    "            if k not in ret:\n",
    "                ret[k] = abbreviate(pos['unitName'])\n",
    "    return ret\n",
    "\n",
    "#calc_uid_to_abbr(unitn)\n",
    "print(calc_uid_to_abbr(unitn)['STO0008629'])\n",
    "print(calc_uid_to_abbr(unitn)['STO0012897'])"
   ]
  },
  {
   "cell_type": "markdown",
   "metadata": {},
   "source": [
    "### A2.1 calc_prof_roles\n",
    "\n",
    "✪✪ For each department, we want to see how many professor roles are covered, sorting them from greatest to lowest. In returned list we will only put the 10 department with most roles.\n",
    "\n",
    "* **NOTE 1**: we are interested in _roles_ covered. Don't care if actual people might be less (one person can cover more professor roles within the same unit)\n",
    "* **NOTE 2**: there are several professor roles. Please avoid listing all roles in the code (\"Senior Professor', \"Visiting Professor\", ....), and prefer using some smarter way to match them. \n"
   ]
  },
  {
   "cell_type": "code",
   "execution_count": 33,
   "metadata": {},
   "outputs": [],
   "source": [
    "def calc_prof_roles(db):\n",
    "    diz = {}\n",
    "    for d in unitn:\n",
    "        pos = d['positions']\n",
    "        for i in pos:\n",
    "            role = i['role'].lower()\n",
    "            if 'professor' in role:\n",
    "                x = abbreviate(i['unitName'])\n",
    "                if x not in diz:\n",
    "                    diz[x] = 1\n",
    "                else:\n",
    "                    diz[x] += 1\n",
    "    res = [(k, diz[k]) for k in diz]\n",
    "    \n",
    "    return sorted(res, key = lambda x : x[-1], reverse = True)[:10]\n",
    "    \n",
    "#calc_prof_roles(unitn)"
   ]
  },
  {
   "cell_type": "code",
   "execution_count": 34,
   "metadata": {},
   "outputs": [
    {
     "data": {
      "text/plain": [
       "[('Humanities', 92),\n",
       " ('DICAM', 85),\n",
       " ('Law', 84),\n",
       " ('Economics', 83),\n",
       " ('Sociology', 66),\n",
       " ('COGSCI', 61),\n",
       " ('Physics', 60),\n",
       " ('DISI', 55),\n",
       " ('DII', 49),\n",
       " ('Mathematics', 47)]"
      ]
     },
     "execution_count": 34,
     "metadata": {},
     "output_type": "execute_result"
    }
   ],
   "source": [
    "# EXPECTED RESULT\n",
    "calc_prof_roles(unitn)"
   ]
  },
  {
   "cell_type": "markdown",
   "metadata": {},
   "source": [
    "### A2.2 plot_profs\n",
    "\n",
    "✪ Write a funciton to plot a bar chart of data calculated above"
   ]
  },
  {
   "cell_type": "code",
   "execution_count": 35,
   "metadata": {},
   "outputs": [],
   "source": [
    "%matplotlib inline\n",
    "import matplotlib.pyplot as plt\n",
    "\n",
    "\n",
    "def plot_profs(db):\n",
    "    elems = calc_prof_roles(db)\n",
    "    x, y = [i[0] for i in elems], [i[1] for i in elems]\n",
    "    plt.figure(figsize = (20, 3))\n",
    "    plt.title('Professor roles per department')\n",
    "    plt.xlabel('departments')\n",
    "    plt.ylabel('professor roles')\n",
    "    plt.bar(x, y, 0.5)\n",
    "    plt.show()\n",
    "\n",
    "#plot_profs(unitn)"
   ]
  },
  {
   "cell_type": "code",
   "execution_count": 36,
   "metadata": {},
   "outputs": [
    {
     "data": {
      "image/png": "[encoded data removed]",
      "text/plain": [
       "<Figure size 1440x216 with 1 Axes>"
      ]
     },
     "metadata": {
      "needs_background": "light"
     },
     "output_type": "display_data"
    }
   ],
   "source": [
    "# EXPECTED RESULT\n",
    "plot_profs(unitn)"
   ]
  },
  {
   "cell_type": "markdown",
   "metadata": {},
   "source": [
    "### A3.1 calc_roles\n",
    "\n",
    "✪✪ We want to calculate how many roles are covered for each department.\n",
    "\n",
    "You will group roles by these macro groups (some already exist, some are new):\n",
    "\n",
    "- Professor : \"Senior Professor', \"Visiting Professor\", ...\n",
    "- Research : \"Senior researcher\", \"Research collaborator\", ...\n",
    "- Teaching : \"Teaching assistant\", \"Teaching fellow\", ...\n",
    "- Guest : \"Guest\", ...\n",
    "\n",
    "and discard all the others (there are many, like \"Rector\", \"Head\", etc ..)\n",
    "\n",
    "**NOTE**: Please avoid listing all roles in the code (\"Senior researcher\", \"Research collaborator\", ...), and prefer using some smarter way to match them. \n"
   ]
  },
  {
   "cell_type": "code",
   "execution_count": 37,
   "metadata": {
    "scrolled": true
   },
   "outputs": [],
   "source": [
    "def supp_fun(role, positions):\n",
    "    for i in role.split():\n",
    "        if i.lower() in positions:\n",
    "            return i.capitalize()\n",
    "    return False\n",
    "\n",
    "\n",
    "def calc_roles(db):\n",
    "    positions = ['teaching', 'research', 'professor', 'guest']\n",
    "    \n",
    "    res = {}\n",
    "    \n",
    "    for diz in db:\n",
    "        \n",
    "        for lst in diz['positions']:\n",
    "            role = lst['role']\n",
    "            my_id = lst['unitIdentifier']\n",
    "            \n",
    "            if supp_fun(role, positions):\n",
    "                x = supp_fun(role, positions)\n",
    "                if my_id not in res:\n",
    "                    res[my_id] = {}\n",
    "                if x not in res[my_id]:\n",
    "                    res[my_id][x] = 1\n",
    "                else:\n",
    "                    res[my_id][x] += 1\n",
    "    return res\n",
    "\n",
    "#print(calc_roles(unitn)['STO0000001'])\n",
    "#print(calc_roles(unitn)['STO0000006'])\n",
    "#print(calc_roles(unitn)['STO0000012'])\n",
    "#print(calc_roles(unitn)['STO0008629'])"
   ]
  },
  {
   "cell_type": "markdown",
   "metadata": {},
   "source": [
    "EXPECTED RESULT - Showing just first ones ...\n",
    "\n",
    "```python\n",
    ">>> calc_roles(unitn)\n",
    "\n",
    "{\n",
    " 'STO0000001': {'Teaching': 9, 'Research': 3, 'Professor': 12},\n",
    " 'STO0000006': {'Professor': 1},\n",
    " 'STO0000012': {'Guest': 3},\n",
    " 'STO0008629': {'Teaching': 94, 'Research': 71, 'Professor': 55, 'Guest': 38}\n",
    " .\n",
    " .\n",
    " .\n",
    "}\n",
    "```"
   ]
  },
  {
   "cell_type": "markdown",
   "metadata": {},
   "source": [
    "### A3.2 plot_roles\n",
    "\n",
    "✪✪ Implement a function `plot_roles` that given, the abbreviations (or long names) of some departments, plots pie charts of their grouped role distribution, all in one row.\n",
    "\n",
    "* **NOTE 1**: different plots MUST show equal groups with equal colors\n",
    "* **NOTE 2**: always show all the 4 macro groups defined before, even if they have zero frequency\n",
    "\n",
    "\n",
    "* For on example on how to plot the pie charts, [see this](https://sciprog.davidleoni.it/visualization/visualization-sol.html#Pie-chart)\n",
    "* For on example on plotting side by side, [see this](https://sciprog.davidleoni.it/visualization/visualization-sol.html#Showing-plots-side-by-side)"
   ]
  },
  {
   "cell_type": "code",
   "execution_count": 92,
   "metadata": {},
   "outputs": [
    {
     "data": {
      "image/png": "[encoded data removed]",
      "text/plain": [
       "<Figure size 792x792 with 3 Axes>"
      ]
     },
     "metadata": {},
     "output_type": "display_data"
    }
   ],
   "source": [
    "%matplotlib inline\n",
    "import matplotlib.pyplot as plt\n",
    "\n",
    "def plot_roles(db, abbrs):\n",
    "    \n",
    "    res = {}\n",
    "    \n",
    "    new = calc_roles(db)\n",
    "    \n",
    "    for i in new:\n",
    "        res[calc_uid_to_abbr(unitn)[i]] = new[i]\n",
    "    \n",
    "    to_plot = [(i, res[i]) for i in abbrs]\n",
    "    fig = plt.figure(figsize = (11 ,11))\n",
    "    \n",
    "    count = 0\n",
    "    x = len(to_plot)\n",
    "    \n",
    "    for i in range(x):\n",
    "\n",
    "        ax = fig.add_subplot(1, x, i + 1)\n",
    "        couples = []\n",
    "        for j, k in to_plot[count][1].items():\n",
    "            couples.append((j, k))\n",
    "        couples.sort(key = lambda x : x[0])\n",
    "        ax.pie([i[1] for i in couples], labels = [i[0] for i in couples], autopct = '%1.1f%%', startangle = 90, colors = ['tab:orange', 'tab:blue', 'tab:red', 'tab:green'])\n",
    "        plt.title(to_plot[count][0])\n",
    "        count += 1\n",
    "        \n",
    "    plt.show()\n",
    "    \n",
    "\n",
    "plot_roles(unitn, ['DISI','Sociology', 'COGSCI'])"
   ]
  },
  {
   "cell_type": "markdown",
   "metadata": {},
   "source": [
    "### A4.1 calc_shared\n",
    "\n",
    "✪✪✪ We want to calculate the 10 _department pairs_ that have the greatest number of people working in _both_ departments (regardless of role), sorted in decreasing order.\n",
    "\n",
    "For example,  'CIMeC' and 'COGSCI' have 23 people working in both departments, meaning each of these 23 people has at least a position at CIMeC and at least a position at COGSCI.\n",
    "\n",
    "**NOTE**: in this case we are looking at number of actual people,  _not_ number of roles covered\n",
    "\n",
    "* we do not want to consider Doctoral programmes\n",
    "* we do not want to consider 'University of Trento' department (STO0000001)\n",
    "* if  your calculations display with swapped names  (  ('COGSCI', 'CIMeC', 23) instead of ('CIMeC', 'COGSCI', 23) ) it is not important, as long as they display just once per pair.\n",
    "\n",
    "\n",
    "To implement this, we provide a sketch:\n",
    "\n",
    "* build a dict which assigns unit codes to a `set` of _identifiers_ of people that work for that unit\n",
    "* to add elements to a set, use `.add` method\n",
    "* to find common employees between two units, use set `.intersection` method (NOTE: it generates a _new_ set)\n",
    "* to check for all possibile unit couples, you will need a double `for` on a list of departments. To avoid double checking pairs ( so not have both ('CIMeC', 'COGSCI', 23) and ('COGSCI', 'CIMeC', 23) in output), you can think like you are visiting the lower of a matrix (for the sake of the example here we put only 4 departments with random numbers). \n",
    "\n",
    "```\n",
    "           0      1      2      3\n",
    "         DISI, COGSCI, CIMeC, DICAM\n",
    "0 DISI    --     --     --    --\n",
    "1 COGSCI  313    --     --    -- \n",
    "2 CIMeC   231    23     --    --\n",
    "3 DICAM   12     13     123   --\n",
    "```\n"
   ]
  },
  {
   "cell_type": "code",
   "execution_count": null,
   "metadata": {},
   "outputs": [],
   "source": []
  },
  {
   "cell_type": "code",
   "execution_count": 55,
   "metadata": {},
   "outputs": [
    {
     "data": {
      "text/plain": [
       "[('CIMeC', 'COGSCI', 23),\n",
       " ('C3A', 'DICAM', 14),\n",
       " ('Sociology', 'SIS', 7),\n",
       " ('Economics', 'DISI', 7),\n",
       " ('Law', 'SIS', 6),\n",
       " ('Sociology', 'Economics', 5),\n",
       " ('Humanities', 'SIS', 5),\n",
       " ('Physics', 'Mathematics', 4),\n",
       " ('Law', 'Economics', 4),\n",
       " ('C3A', 'CIBIO', 4)]"
      ]
     },
     "execution_count": 55,
     "metadata": {},
     "output_type": "execute_result"
    }
   ],
   "source": [
    "\n",
    "def calc_shared(db):\n",
    "    \n",
    "    new = load_data()\n",
    "\n",
    "    dep = calc_uid_to_abbr(db)\n",
    "\n",
    "    res = {}\n",
    "\n",
    "    for diz in new:\n",
    "        lst = diz['positions']\n",
    "        pers_id = diz['identifier']\n",
    "        for i in lst:\n",
    "            role = i['role']\n",
    "            unit_id = i['unitIdentifier']\n",
    "            if unit_id == 'STO0000001':\n",
    "                continue\n",
    "            else:\n",
    "                x = dep[i['unitIdentifier']]\n",
    "                if 'doctoral' not in x.lower():\n",
    "                    if x not in res:\n",
    "                        res[x] = set()\n",
    "                    res[x].add(pers_id)\n",
    "\n",
    "    ret = []\n",
    "\n",
    "    k = list(res.keys())\n",
    "\n",
    "    for i in range(len(k)):\n",
    "        for j in range(len(k)):\n",
    "            if i != j and j > i:\n",
    "                inter = res[k[i]].intersection(res[k[j]])\n",
    "                if inter != set():\n",
    "                    ret.append((k[i], k[j], len(inter)))\n",
    "\n",
    "    return sorted(ret, key = lambda x : x[-1], reverse = True)[:10]\n",
    "    \n",
    "#calc_shared(unitn)\n"
   ]
  },
  {
   "cell_type": "code",
   "execution_count": 56,
   "metadata": {},
   "outputs": [
    {
     "data": {
      "text/plain": [
       "[('CIMeC', 'COGSCI', 23),\n",
       " ('C3A', 'DICAM', 14),\n",
       " ('Sociology', 'SIS', 7),\n",
       " ('Economics', 'DISI', 7),\n",
       " ('Law', 'SIS', 6),\n",
       " ('Sociology', 'Economics', 5),\n",
       " ('Humanities', 'SIS', 5),\n",
       " ('Physics', 'Mathematics', 4),\n",
       " ('Law', 'Economics', 4),\n",
       " ('C3A', 'CIBIO', 4)]"
      ]
     },
     "execution_count": 56,
     "metadata": {},
     "output_type": "execute_result"
    }
   ],
   "source": [
    "# EXPECTED RESULT\n",
    "calc_shared(unitn)"
   ]
  },
  {
   "cell_type": "markdown",
   "metadata": {},
   "source": [
    "### A4.2 plot_shared\n",
    "\n",
    "✪ Plot the above in a bar chart, where on the x axis there are the department pairs and on the y the number of people in common."
   ]
  },
  {
   "cell_type": "code",
   "execution_count": 78,
   "metadata": {},
   "outputs": [
    {
     "data": {
      "image/png": "[encoded data removed]",
      "text/plain": [
       "<Figure size 1440x216 with 1 Axes>"
      ]
     },
     "metadata": {
      "needs_background": "light"
     },
     "output_type": "display_data"
    }
   ],
   "source": [
    "import matplotlib.pyplot as plt\n",
    "\n",
    "%matplotlib inline\n",
    "\n",
    "def plot_shared(db):\n",
    "    values = calc_shared(db)\n",
    "\n",
    "    x = []\n",
    "    y = []\n",
    "\n",
    "    for k in values:\n",
    "        lab = ' '.join([i for i in k[:-1]]).replace(' ', '\\n')\n",
    "        val = k[-1]\n",
    "        x.append(lab)\n",
    "        y.append(val)\n",
    "\n",
    "\n",
    "    plt.figure(figsize = (20, 3))\n",
    "    plt.title('Solution')\n",
    "    plt.xlabel('Dept. pairs')\n",
    "    plt.ylabel('Common employees')\n",
    "    plt.bar(x, y, 0.5)\n",
    "    plt.show()\n",
    "\n",
    "plot_shared(unitn)"
   ]
  },
  {
   "cell_type": "code",
   "execution_count": 77,
   "metadata": {},
   "outputs": [
    {
     "data": {
      "image/png": "[encoded data removed]",
      "text/plain": [
       "<Figure size 1440x216 with 1 Axes>"
      ]
     },
     "metadata": {
      "needs_background": "light"
     },
     "output_type": "display_data"
    }
   ],
   "source": [
    "# EXPECTED RESULT\n",
    "\n",
    "plot_shared(unitn)"
   ]
  },
  {
   "cell_type": "markdown",
   "metadata": {},
   "source": [
    "## Part B"
   ]
  },
  {
   "cell_type": "code",
   "execution_count": 75,
   "metadata": {},
   "outputs": [
    {
     "name": "stdout",
     "output_type": "stream",
     "text": [
      "5\n",
      "4\n",
      "3\n",
      "11\n",
      "10\n",
      "9\n",
      "17\n",
      "16\n",
      "15\n"
     ]
    }
   ],
   "source": [
    "def fun(M):\n",
    "    for row in M:                                             #n\n",
    "        for element in row:                                   #n\n",
    "            print(sum([x for x in row if x != element]))      #(n - 1) + n\n",
    "            \n",
    "            \n",
    "M = [[1, 2, 3],\n",
    "     [4, 5, 6],\n",
    "     [7, 8, 9]]\n",
    "\n",
    "fun(M)\n",
    "\n",
    "#O(n ** 3)"
   ]
  },
  {
   "cell_type": "markdown",
   "metadata": {},
   "source": [
    "## B1 Theory\n",
    "\n",
    "**Write the solution in separate `theory.txt` file**\n",
    "\n",
    "Let `M` be a square matrix - a list containing n lists, each of them of size `n`. Return the computational complexity of function `fun()` with respect to `n`:\n",
    "\n",
    "```python\n",
    "def fun(M):\n",
    "    for row in M:\n",
    "        for element in row:\n",
    "            print(sum([x for x in row if x != element]))\n",
    "```\n",
    "\n"
   ]
  },
  {
   "cell_type": "markdown",
   "metadata": {},
   "source": [
    "**ANSWER**:\n",
    "\n",
    "O(n ** 3)"
   ]
  },
  {
   "cell_type": "markdown",
   "metadata": {},
   "source": [
    "## B2 Backpack\n",
    "\n",
    "**Open a text editor** and edit file `backpack_sol.py`\n",
    "\n",
    "We can model a backpack as stack of elements, each being a tuple with a name and a weight.\n",
    "\n",
    "A sensible strategy to fill a backpack is to place heaviest elements to the bottom, so our backback will allow pushing an element only if that element weight is equal or lesser than current topmost element weight. \n",
    "\n",
    "The backpack has also a maximum weight: you can put any number of items you want, as long as its maximum weight is not exceeded.\n",
    "\n",
    "**Example**"
   ]
  },
  {
   "cell_type": "code",
   "execution_count": 2,
   "metadata": {},
   "outputs": [],
   "source": [
    "from backpack import *\n",
    "\n",
    "bp = Backpack(30)  # max_weight = 30\n",
    "\n",
    "bp.push('a',10)   # item 'a' with weight 10"
   ]
  },
  {
   "cell_type": "code",
   "execution_count": 3,
   "metadata": {},
   "outputs": [
    {
     "name": "stdout",
     "output_type": "stream",
     "text": [
      "Backpack: weight=10 max_weight=30 elements = [('a', 10)]\n"
     ]
    }
   ],
   "source": [
    "print(bp)"
   ]
  },
  {
   "cell_type": "code",
   "execution_count": 4,
   "metadata": {},
   "outputs": [],
   "source": [
    "bp.push('b',8)   "
   ]
  },
  {
   "cell_type": "code",
   "execution_count": 5,
   "metadata": {},
   "outputs": [
    {
     "name": "stdout",
     "output_type": "stream",
     "text": [
      "Backpack: weight=18 max_weight=30 elements = [('a', 10), ('b', 8)]\n"
     ]
    }
   ],
   "source": [
    "print(bp)"
   ]
  },
  {
   "cell_type": "markdown",
   "metadata": {},
   "source": [
    "```python\n",
    ">>> bp.push('c', 11)\n",
    "\n",
    "DEBUG:  Pushing (c,11)\n",
    "\n",
    "ValueError: ('Pushing weight greater than top element weight! %s > %s', (11, 8))\n",
    "\n",
    "\n",
    "```"
   ]
  },
  {
   "cell_type": "code",
   "execution_count": 6,
   "metadata": {},
   "outputs": [],
   "source": [
    "bp.push('c', 7)"
   ]
  },
  {
   "cell_type": "code",
   "execution_count": 7,
   "metadata": {},
   "outputs": [
    {
     "name": "stdout",
     "output_type": "stream",
     "text": [
      "Backpack: weight=25 max_weight=30 elements = [('a', 10), ('b', 8), ('c', 7)]\n"
     ]
    }
   ],
   "source": [
    "print(bp)"
   ]
  },
  {
   "cell_type": "markdown",
   "metadata": {},
   "source": [
    "```python\n",
    "\n",
    ">>> bp.push('d', 6)  \n",
    "\n",
    "DEBUG:  Pushing (d,6)\n",
    "\n",
    "ValueError: Can't exceed max_weight ! (31 > 30)\n",
    "\n",
    "```"
   ]
  },
  {
   "cell_type": "markdown",
   "metadata": {},
   "source": [
    "### B2.1 class\n",
    "\n",
    "✪✪ Implement methods in the class `Backpack`, in the order they are shown. If you want, you can add debug prints by calling the `debug` function\n",
    "\n",
    "**IMPORTANT: the data structure should provide the total current weight in O(1)**, so make sure to add and update an appropriate field to meet this constraint.\n",
    "\n",
    "**Testing**: `python3 -m unittest backpack_test.BackpackTest`"
   ]
  },
  {
   "cell_type": "markdown",
   "metadata": {},
   "source": [
    "### B2.2 remove\n",
    "\n",
    "✪✪ Implement function `remove`: \n",
    "\n",
    "```python\n",
    "# NOTE: this function is implemented *outside* the class !\n",
    "\n",
    "def remove(backpack, el):\n",
    "    \"\"\"\n",
    "        Remove topmost occurrence of el found in the backpack, \n",
    "        and RETURN it (as a tuple name, weight)\n",
    "        \n",
    "        - if el is not found, raises ValueError        \n",
    "\n",
    "        - DO *NOT* ACCESS DIRECTLY FIELDS OF BACKPACK !!!\n",
    "          Instead, just call methods of the class!\n",
    "\n",
    "        - MUST perform in O(n), where n is the backpack size\n",
    "\n",
    "        - HINT: To remove el, you need to call Backpack.pop() until\n",
    "                the top element is what you are looking for. You need \n",
    "                to save somewhere the popped items except the one to \n",
    "                remove, and  then push them back again.\n",
    "    \n",
    "    \"\"\"\n",
    "\n",
    "```\n",
    "\n",
    "**Testing**: `python3 -m unittest backpack_test.RemoveTest`\n",
    "\n",
    "\n",
    "**Example**:\n"
   ]
  },
  {
   "cell_type": "code",
   "execution_count": 8,
   "metadata": {},
   "outputs": [],
   "source": [
    "bp = Backpack(50)\n",
    "\n",
    "bp.push('a',9)\n",
    "bp.push('b',8)\n",
    "bp.push('c',8)\n",
    "bp.push('b',8)\n",
    "bp.push('d',7)\n",
    "bp.push('e',5)\n",
    "bp.push('f',2)        "
   ]
  },
  {
   "cell_type": "code",
   "execution_count": 9,
   "metadata": {},
   "outputs": [
    {
     "name": "stdout",
     "output_type": "stream",
     "text": [
      "Backpack: weight=47 max_weight=50 elements = [('a', 9), ('b', 8), ('c', 8), ('b', 8), ('d', 7), ('e', 5), ('f', 2)]\n"
     ]
    }
   ],
   "source": [
    "print(bp)"
   ]
  },
  {
   "cell_type": "code",
   "execution_count": 10,
   "metadata": {},
   "outputs": [
    {
     "data": {
      "text/plain": [
       "('b', 8)"
      ]
     },
     "execution_count": 10,
     "metadata": {},
     "output_type": "execute_result"
    }
   ],
   "source": [
    "remove(bp, 'b')"
   ]
  },
  {
   "cell_type": "code",
   "execution_count": 11,
   "metadata": {},
   "outputs": [
    {
     "name": "stdout",
     "output_type": "stream",
     "text": [
      "Backpack: weight=39 max_weight=50 elements = [('a', 9), ('b', 8), ('c', 8), ('d', 7), ('e', 5), ('f', 2)]\n"
     ]
    }
   ],
   "source": [
    "print(bp)"
   ]
  },
  {
   "cell_type": "markdown",
   "metadata": {},
   "source": [
    "## B.3 Concert\n",
    "\n",
    "Start editing file `concert.py`.\n",
    "\n",
    "When there are events with lots of potential visitors such as concerts, to speed up check-in there are at least two queues: one for cash where tickets are sold, and one for the actual entrance at the event. \n",
    "\n",
    "Each visitor may or may not have a ticket. Also, since people usually attend in groups (coupls, families, and so on), in the queue lines each group tends to move as a whole.\n",
    "\n",
    "In Python, we will model a `Person` as a class you can create like this:\n"
   ]
  },
  {
   "cell_type": "code",
   "execution_count": 12,
   "metadata": {},
   "outputs": [],
   "source": [
    "from concert import *"
   ]
  },
  {
   "cell_type": "code",
   "execution_count": 13,
   "metadata": {},
   "outputs": [
    {
     "data": {
      "text/plain": [
       "Person(a,x,False)"
      ]
     },
     "execution_count": 13,
     "metadata": {},
     "output_type": "execute_result"
    }
   ],
   "source": [
    "Person('a', 'x', False)"
   ]
  },
  {
   "cell_type": "markdown",
   "metadata": {},
   "source": [
    "`a` is the name, `'x'` is the group, and `False` indicates the person doesn't have ticket"
   ]
  },
  {
   "cell_type": "markdown",
   "metadata": {},
   "source": [
    "To model the two queues, in `Concert` class we have these fields and methods:\n",
    "\n",
    "```python3 \n",
    "\n",
    "class Concert:\n",
    "\n",
    "    def __init__(self):\n",
    "        self._cash = deque()\n",
    "        self._entrance = deque()\n",
    "\n",
    "    \n",
    "    def enqc(self, person):        \n",
    "        \"\"\" Enqueues at the cash from the right \"\"\"\n",
    "        \n",
    "        self._cash.append(person)\n",
    "        \n",
    "    def enqe(self, person):\n",
    "        \"\"\" Enqueues at the entrance from the right \"\"\"\n",
    "        \n",
    "        self._entrance.append(person)\n",
    "```"
   ]
  },
  {
   "cell_type": "markdown",
   "metadata": {},
   "source": [
    "\n",
    "### B3.1 dequeue\n",
    "\n",
    "✪✪✪ Implement `dequeue`.  If you want, you can add debug prints by calling the `debug` function.\n",
    "\n",
    "```python3\n",
    "    \n",
    "    def dequeue(self):\n",
    "        \"\"\" RETURN the names of people admitted to concert  \n",
    "\n",
    "            Dequeuing for the whole queue system is done in groups, that is, \n",
    "            with a _single_ call to dequeue, these steps happen, in order:\n",
    "\n",
    "            1. entrance queue: all people belonging to the same group at \n",
    "               the front of entrance queue who have the ticket exit the queue \n",
    "               and are admitted to concert. People in the group without the \n",
    "               ticket are sent to cash.\n",
    "            2. cash queue: all people belonging to the same group at the front \n",
    "               of cash queue are given a ticket, and are queued at the entrance queue\n",
    "        \"\"\"\n",
    "\n",
    "```\n",
    "\n",
    "**Testing**: `python3 -m unittest concert_test.DequeueTest`\n",
    "\n",
    "\n",
    "**Example**: "
   ]
  },
  {
   "cell_type": "code",
   "execution_count": 14,
   "metadata": {},
   "outputs": [],
   "source": [
    "con = Concert()\n",
    "\n",
    "con.enqc(Person('a','x',False))  # a,b,c belong to same group x\n",
    "con.enqc(Person('b','x',False))\n",
    "con.enqc(Person('c','x',False))\n",
    "con.enqc(Person('d','y',False))  # d belongs to group y\n",
    "con.enqc(Person('e','z',False))  # e,f belongs to group z\n",
    "con.enqc(Person('f','z',False))  \n",
    "con.enqc(Person('g','w',False))  # g belongs to group w\n"
   ]
  },
  {
   "cell_type": "code",
   "execution_count": 15,
   "metadata": {},
   "outputs": [
    {
     "data": {
      "text/plain": [
       "Concert: \n",
       "      cash: deque([Person(a,x,False),\n",
       "                   Person(b,x,False),\n",
       "                   Person(c,x,False),\n",
       "                   Person(d,y,False),\n",
       "                   Person(e,z,False),\n",
       "                   Person(f,z,False),\n",
       "                   Person(g,w,False)])\n",
       "  entrance: deque([])"
      ]
     },
     "execution_count": 15,
     "metadata": {},
     "output_type": "execute_result"
    }
   ],
   "source": [
    "con"
   ]
  },
  {
   "cell_type": "markdown",
   "metadata": {},
   "source": [
    "First time we dequeue, entrance queue is empty so no one enters concert, while at the cash queue people in group `x` are given a ticket and enqueued at the entrance queue\n",
    "\n",
    "**NOTE**: The messages on the console are just debug print, the function `dequeue` only return name sof people  admitted to concert"
   ]
  },
  {
   "cell_type": "code",
   "execution_count": 16,
   "metadata": {},
   "outputs": [
    {
     "data": {
      "text/plain": [
       "[]"
      ]
     },
     "execution_count": 16,
     "metadata": {},
     "output_type": "execute_result"
    }
   ],
   "source": [
    "con.dequeue()"
   ]
  },
  {
   "cell_type": "code",
   "execution_count": 17,
   "metadata": {},
   "outputs": [
    {
     "data": {
      "text/plain": [
       "['a', 'b', 'c']"
      ]
     },
     "execution_count": 17,
     "metadata": {},
     "output_type": "execute_result"
    }
   ],
   "source": [
    "con.dequeue()"
   ]
  },
  {
   "cell_type": "code",
   "execution_count": 18,
   "metadata": {},
   "outputs": [
    {
     "data": {
      "text/plain": [
       "['d']"
      ]
     },
     "execution_count": 18,
     "metadata": {},
     "output_type": "execute_result"
    }
   ],
   "source": [
    "con.dequeue()"
   ]
  },
  {
   "cell_type": "code",
   "execution_count": 19,
   "metadata": {},
   "outputs": [
    {
     "data": {
      "text/plain": [
       "['e', 'f']"
      ]
     },
     "execution_count": 19,
     "metadata": {},
     "output_type": "execute_result"
    }
   ],
   "source": [
    "con.dequeue()"
   ]
  },
  {
   "cell_type": "code",
   "execution_count": 20,
   "metadata": {},
   "outputs": [
    {
     "data": {
      "text/plain": [
       "['g']"
      ]
     },
     "execution_count": 20,
     "metadata": {},
     "output_type": "execute_result"
    }
   ],
   "source": [
    "con.dequeue()"
   ]
  },
  {
   "cell_type": "code",
   "execution_count": 21,
   "metadata": {},
   "outputs": [
    {
     "data": {
      "text/plain": [
       "[]"
      ]
     },
     "execution_count": 21,
     "metadata": {},
     "output_type": "execute_result"
    }
   ],
   "source": [
    "# calling dequeue on empty lines gives empty list:\n",
    "con.dequeue()"
   ]
  },
  {
   "cell_type": "markdown",
   "metadata": {},
   "source": [
    "#### Special dequeue case: broken group\n",
    "\n",
    "In the special case when there is a group at the entrance with one or more members without a ticket, it is assumed that the group gets broken, so whoever has the ticket enters and the others get enqueued at the cash."
   ]
  },
  {
   "cell_type": "code",
   "execution_count": 22,
   "metadata": {},
   "outputs": [
    {
     "data": {
      "text/plain": [
       "Concert: \n",
       "      cash: deque([Person(f,y,False)])\n",
       "  entrance: deque([Person(a,x,True),\n",
       "                   Person(b,x,False),\n",
       "                   Person(c,x,True)])"
      ]
     },
     "execution_count": 22,
     "metadata": {},
     "output_type": "execute_result"
    }
   ],
   "source": [
    "con = Concert()\n",
    "\n",
    "con.enqe(Person('a','x',True))  \n",
    "con.enqe(Person('b','x',False))\n",
    "con.enqe(Person('c','x',True)) \n",
    "con.enqc(Person('f','y',False)) \n",
    "\n",
    "con"
   ]
  },
  {
   "cell_type": "code",
   "execution_count": 23,
   "metadata": {},
   "outputs": [
    {
     "data": {
      "text/plain": [
       "['a', 'c']"
      ]
     },
     "execution_count": 23,
     "metadata": {},
     "output_type": "execute_result"
    }
   ],
   "source": [
    "con.dequeue()"
   ]
  },
  {
   "cell_type": "code",
   "execution_count": 24,
   "metadata": {},
   "outputs": [
    {
     "data": {
      "text/plain": [
       "['f']"
      ]
     },
     "execution_count": 24,
     "metadata": {},
     "output_type": "execute_result"
    }
   ],
   "source": [
    "con.dequeue()"
   ]
  },
  {
   "cell_type": "code",
   "execution_count": 25,
   "metadata": {},
   "outputs": [
    {
     "data": {
      "text/plain": [
       "['b']"
      ]
     },
     "execution_count": 25,
     "metadata": {},
     "output_type": "execute_result"
    }
   ],
   "source": [
    "con.dequeue()"
   ]
  },
  {
   "cell_type": "code",
   "execution_count": 26,
   "metadata": {},
   "outputs": [
    {
     "data": {
      "text/plain": [
       "Concert: \n",
       "      cash: deque([])\n",
       "  entrance: deque([])"
      ]
     },
     "execution_count": 26,
     "metadata": {},
     "output_type": "execute_result"
    }
   ],
   "source": [
    "con"
   ]
  },
  {
   "cell_type": "code",
   "execution_count": 27,
   "metadata": {},
   "outputs": [
    {
     "name": "stderr",
     "output_type": "stream",
     "text": [
      "..................\n",
      "----------------------------------------------------------------------\n",
      "Ran 18 tests in 0.012s\n",
      "\n",
      "OK\n",
      ".......\n",
      "----------------------------------------------------------------------\n",
      "Ran 7 tests in 0.004s\n",
      "\n",
      "OK\n"
     ]
    }
   ],
   "source": [
    "import jupman;\n",
    "import backpack_sol\n",
    "import backpack_test\n",
    "backpack_sol.DEBUG = False\n",
    "jupman.run(backpack_test)\n",
    "\n",
    "import concert_sol\n",
    "import concert_test\n",
    "concert_sol.DEBUG = False\n",
    "jupman.run(concert_test)"
   ]
  }
 ],
 "metadata": {
  "celltoolbar": "Edit Metadata",
  "kernelspec": {
   "display_name": "Python 3",
   "language": "python",
   "name": "python3"
  },
  "language_info": {
   "codemirror_mode": {
    "name": "ipython",
    "version": 3
   },
   "file_extension": ".py",
   "mimetype": "text/x-python",
   "name": "python",
   "nbconvert_exporter": "python",
   "pygments_lexer": "ipython3",
   "version": "3.8.5"
  },
  "toc": {
   "base_numbering": 1,
   "nav_menu": {},
   "number_sections": false,
   "sideBar": true,
   "skip_h1_title": false,
   "title_cell": "Table of Contents",
   "title_sidebar": "Contents",
   "toc_cell": false,
   "toc_position": {},
   "toc_section_display": true,
   "toc_window_display": true
  }
 },
 "nbformat": 4,
 "nbformat_minor": 4
}
